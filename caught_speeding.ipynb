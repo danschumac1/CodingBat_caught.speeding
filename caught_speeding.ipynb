{
 "cells": [
  {
   "cell_type": "markdown",
   "id": "f1434b7b",
   "metadata": {},
   "source": [
    "# Logic-1 > caught_speeding"
   ]
  },
  {
   "cell_type": "markdown",
   "id": "65e1a15d",
   "metadata": {},
   "source": [
    "\n",
    "You are driving a little too fast, and a police officer stops you. Write code to compute the result, encoded as an int value: 0=no ticket, 1=small ticket, 2=big ticket. If speed is 60 or less, the result is 0. If speed is between 61 and 80 inclusive, the result is 1. If speed is 81 or more, the result is 2. Unless it is your birthday -- on that day, your speed can be 5 higher in all cases.\n",
    "\n",
    "\n",
    "caught_speeding(60, False) → 0\n",
    "\n",
    "caught_speeding(65, False) → 1\n",
    "\n",
    "caught_speeding(65, True) → 0"
   ]
  },
  {
   "cell_type": "code",
   "execution_count": 2,
   "id": "a596f7d6",
   "metadata": {},
   "outputs": [],
   "source": [
    "def caught_speeding(speed, is_birthday):\n",
    "  \n",
    "  #check bday\n",
    "  if is_birthday:\n",
    "    speed-=5\n",
    "  \n",
    "  #if speed less than 60 ---> 0\n",
    "  if speed <=60:\n",
    "    ticket = 0\n",
    "    \n",
    "  # if speed is 61-80 ---> 1\n",
    "  if speed >=61 and speed <=80:\n",
    "    ticket = 1\n",
    "     \n",
    "  # if speed is 81 or higher ---> 2\n",
    "  if speed>=81:\n",
    "    ticket = 2\n",
    "  \n",
    "  return ticket"
   ]
  }
 ],
 "metadata": {
  "kernelspec": {
   "display_name": "Python 3 (ipykernel)",
   "language": "python",
   "name": "python3"
  },
  "language_info": {
   "codemirror_mode": {
    "name": "ipython",
    "version": 3
   },
   "file_extension": ".py",
   "mimetype": "text/x-python",
   "name": "python",
   "nbconvert_exporter": "python",
   "pygments_lexer": "ipython3",
   "version": "3.9.12"
  }
 },
 "nbformat": 4,
 "nbformat_minor": 5
}
